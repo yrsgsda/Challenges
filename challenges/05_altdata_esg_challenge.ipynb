{
 "cells": [
  {
   "cell_type": "markdown",
   "id": "e6e0d965",
   "metadata": {},
   "source": [
    "# 5) Alternative Data — ESG Incremental Alpha\n",
    "\n",
    "> Read me\n",
    "- Run top-to-bottom. Uses simulated data only (numpy/pandas/matplotlib).\n",
    "- Cells with **TODO** are what interviewers often expect you to implement.\n",
    "- Keep runs fast. Vectorize when possible.\n",
    "- Use clean functions with docstrings; add comments where you make assumptions.\n"
   ]
  },
  {
   "cell_type": "markdown",
   "id": "5d1e6e79",
   "metadata": {},
   "source": [
    "## Setup & Data (simulated)"
   ]
  },
  {
   "cell_type": "code",
   "execution_count": 90,
   "id": "5a4c3190",
   "metadata": {},
   "outputs": [
    {
     "name": "stderr",
     "output_type": "stream",
     "text": [
      "/var/folders/kc/7dyzg2fs2zv9v849s3n6rd4w0000gn/T/ipykernel_48578/3835603.py:17: FutureWarning: 'A' is deprecated and will be removed in a future version, please use 'YE' instead.\n",
      "  years = pd.date_range('2012-12-31','2020-12-31',freq='A')\n",
      "/var/folders/kc/7dyzg2fs2zv9v849s3n6rd4w0000gn/T/ipykernel_48578/3835603.py:27: FutureWarning: The previous implementation of stack is deprecated and will be removed in a future version of pandas. See the What's New notes for pandas 2.1.0 for details. Specify future_stack=True to adopt the new implementation and silence this warning.\n",
      "  esg = esg.unstack().reindex(months).ffill().stack().sort_index()\n"
     ]
    }
   ],
   "source": [
    "import numpy as np, pandas as pd\n",
    "import matplotlib.pyplot as plt\n",
    "\n",
    "np.random.seed(11)\n",
    "n = 800\n",
    "months = pd.period_range('2013-01','2020-12',freq='M').to_timestamp('M')\n",
    "tickers = [f\"U{i:04d}\" for i in range(n)]\n",
    "mi = pd.MultiIndex.from_product([months, tickers], names=[\"date\",\"ticker\"])\n",
    "panel = pd.DataFrame(index=mi)\n",
    "panel[\"value\"] = np.random.normal(0,1,len(panel))\n",
    "panel[\"quality\"] = np.random.normal(0,1,len(panel))\n",
    "panel[\"momentum\"] = np.random.normal(0,1,len(panel))\n",
    "\n",
    "theta = np.array([0.002,0.0018,0.0025])\n",
    "panel[\"ret\"] = panel[[\"value\",\"quality\",\"momentum\"]].values @ theta + np.random.normal(0,0.05,len(panel))\n",
    "\n",
    "years = pd.date_range('2012-12-31','2020-12-31',freq='A')\n",
    "esg_idx = pd.MultiIndex.from_product([years, tickers], names=[\"date\",\"ticker\"])\n",
    "esg = pd.DataFrame(index=esg_idx)\n",
    "base = np.random.normal(0,1,n)\n",
    "for y in years:\n",
    "    base = 0.8*base + np.random.normal(0,0.6,n)\n",
    "    esg.loc[(y,slice(None)),\"esg_level\"] = base\n",
    "esg[\"esg_level\"] = esg[\"esg_level\"].astype(float)\n",
    "# bad code to reindex esg to monthly\n",
    "# esg = esg.groupby(level=\"ticker\").apply(lambda x: x.droplevel(0).reindex(months, method=\"ffill\")).swaplevel().sort_index()\n",
    "esg = esg.unstack().reindex(months).ffill().stack().sort_index()\n",
    "\n",
    "panel[\"esg_level\"] = esg[\"esg_level\"]\n",
    "panel[\"esg_change_12m\"] = panel.groupby(\"ticker\")[\"esg_level\"].diff(12)\n",
    "\n",
    "def z(g): return (g - g.mean())/g.std(ddof=0)\n",
    "for c in [\"value\",\"quality\",\"momentum\",\"esg_level\",\"esg_change_12m\"]:\n",
    "    panel[c] = panel.groupby(\"date\")[c].transform(lambda s: z(s.fillna(s.mean()))).fillna(0)\n",
    "panel[\"fwd_ret\"] = panel.groupby(\"ticker\")[\"ret\"].shift(-1)\n"
   ]
  },
  {
   "cell_type": "markdown",
   "id": "884ff08f",
   "metadata": {},
   "source": [
    "## TODO Checklist\n",
    "1. Run monthly **cross-sectional regressions** (Fama–MacBeth) for base styles vs base+ESG.\n",
    "2. Compute **time-series means** of coefficients and **t-stats** (use simple SE over time; NW optional).\n",
    "3. Report **incremental IC**: correlation of ESG-only residual with forward returns.\n",
    "4. Do a simple **bucket test** on ESG level (quintiles) and plot long–short.\n"
   ]
  },
  {
   "cell_type": "code",
   "execution_count": 72,
   "id": "07bda277",
   "metadata": {},
   "outputs": [],
   "source": [
    "import statsmodels.api as sm"
   ]
  },
  {
   "cell_type": "code",
   "execution_count": null,
   "id": "e3d27d0f",
   "metadata": {},
   "outputs": [],
   "source": [
    "def fm_beta(df, cols):\n",
    "    # TODO: return Series of OLS coefficients for the month\n",
    "\n",
    "\n",
    "def fm_beta_sm(df, cols):\n",
    "    \"\"\"\n",
    "    OLS with intercept using statsmodels. Returns a DataFrame with ['coef','t'].\n",
    "    \"\"\"\n",
    "\n",
    "\n",
    "cols_base = [\"value\",\"quality\",\"momentum\"]\n",
    "cols_plus = cols_base + [\"esg_level\",\"esg_change_12m\"]\n",
    "\n",
    "betas_base = panel.dropna(subset=[\"fwd_ret\"]).groupby(\"date\").apply(lambda x: fm_beta_sm(x, cols_base))\n",
    "betas_plus = panel.dropna(subset=[\"fwd_ret\"]).groupby(\"date\").apply(lambda x: fm_beta_sm(x, cols_plus))\n"
   ]
  },
  {
   "cell_type": "code",
   "execution_count": 92,
   "id": "e884156e",
   "metadata": {},
   "outputs": [
    {
     "data": {
      "text/html": [
       "<div>\n",
       "<style scoped>\n",
       "    .dataframe tbody tr th:only-of-type {\n",
       "        vertical-align: middle;\n",
       "    }\n",
       "\n",
       "    .dataframe tbody tr th {\n",
       "        vertical-align: top;\n",
       "    }\n",
       "\n",
       "    .dataframe thead th {\n",
       "        text-align: right;\n",
       "    }\n",
       "</style>\n",
       "<table border=\"1\" class=\"dataframe\">\n",
       "  <thead>\n",
       "    <tr style=\"text-align: right;\">\n",
       "      <th></th>\n",
       "      <th>Base</th>\n",
       "      <th>Plus</th>\n",
       "    </tr>\n",
       "  </thead>\n",
       "  <tbody>\n",
       "    <tr>\n",
       "      <th>const</th>\n",
       "      <td>-0.000115</td>\n",
       "      <td>-0.000115</td>\n",
       "    </tr>\n",
       "    <tr>\n",
       "      <th>value</th>\n",
       "      <td>-0.000085</td>\n",
       "      <td>-0.000094</td>\n",
       "    </tr>\n",
       "    <tr>\n",
       "      <th>quality</th>\n",
       "      <td>0.000100</td>\n",
       "      <td>0.000104</td>\n",
       "    </tr>\n",
       "    <tr>\n",
       "      <th>momentum</th>\n",
       "      <td>-0.000021</td>\n",
       "      <td>-0.000029</td>\n",
       "    </tr>\n",
       "    <tr>\n",
       "      <th>esg_level</th>\n",
       "      <td>NaN</td>\n",
       "      <td>-0.000243</td>\n",
       "    </tr>\n",
       "    <tr>\n",
       "      <th>esg_change_12m</th>\n",
       "      <td>NaN</td>\n",
       "      <td>-0.000179</td>\n",
       "    </tr>\n",
       "  </tbody>\n",
       "</table>\n",
       "</div>"
      ],
      "text/plain": [
       "                    Base      Plus\n",
       "const          -0.000115 -0.000115\n",
       "value          -0.000085 -0.000094\n",
       "quality         0.000100  0.000104\n",
       "momentum       -0.000021 -0.000029\n",
       "esg_level            NaN -0.000243\n",
       "esg_change_12m       NaN -0.000179"
      ]
     },
     "execution_count": 92,
     "metadata": {},
     "output_type": "execute_result"
    }
   ],
   "source": [
    "# TODO 2: compute means and t-stats across months\n",
    "coefs = pd.concat([betas_base['coef'].unstack().mean(), betas_plus['coef'].unstack().mean()], axis=1).rename(columns={0: 'Base', 1: 'Plus'})\n",
    "coefs"
   ]
  },
  {
   "cell_type": "code",
   "execution_count": 93,
   "id": "c0d58873",
   "metadata": {},
   "outputs": [
    {
     "data": {
      "text/html": [
       "<div>\n",
       "<style scoped>\n",
       "    .dataframe tbody tr th:only-of-type {\n",
       "        vertical-align: middle;\n",
       "    }\n",
       "\n",
       "    .dataframe tbody tr th {\n",
       "        vertical-align: top;\n",
       "    }\n",
       "\n",
       "    .dataframe thead th {\n",
       "        text-align: right;\n",
       "    }\n",
       "</style>\n",
       "<table border=\"1\" class=\"dataframe\">\n",
       "  <thead>\n",
       "    <tr style=\"text-align: right;\">\n",
       "      <th></th>\n",
       "      <th>Base</th>\n",
       "      <th>Plus</th>\n",
       "    </tr>\n",
       "  </thead>\n",
       "  <tbody>\n",
       "    <tr>\n",
       "      <th>const</th>\n",
       "      <td>-0.072261</td>\n",
       "      <td>-0.072372</td>\n",
       "    </tr>\n",
       "    <tr>\n",
       "      <th>value</th>\n",
       "      <td>-0.044263</td>\n",
       "      <td>-0.049300</td>\n",
       "    </tr>\n",
       "    <tr>\n",
       "      <th>quality</th>\n",
       "      <td>0.056754</td>\n",
       "      <td>0.058438</td>\n",
       "    </tr>\n",
       "    <tr>\n",
       "      <th>momentum</th>\n",
       "      <td>-0.010713</td>\n",
       "      <td>-0.014851</td>\n",
       "    </tr>\n",
       "    <tr>\n",
       "      <th>esg_level</th>\n",
       "      <td>NaN</td>\n",
       "      <td>-0.145833</td>\n",
       "    </tr>\n",
       "    <tr>\n",
       "      <th>esg_change_12m</th>\n",
       "      <td>NaN</td>\n",
       "      <td>-0.129815</td>\n",
       "    </tr>\n",
       "  </tbody>\n",
       "</table>\n",
       "</div>"
      ],
      "text/plain": [
       "                    Base      Plus\n",
       "const          -0.072261 -0.072372\n",
       "value          -0.044263 -0.049300\n",
       "quality         0.056754  0.058438\n",
       "momentum       -0.010713 -0.014851\n",
       "esg_level            NaN -0.145833\n",
       "esg_change_12m       NaN -0.129815"
      ]
     },
     "execution_count": 93,
     "metadata": {},
     "output_type": "execute_result"
    }
   ],
   "source": [
    "tstats = pd.concat([betas_base['t'].unstack().mean(), betas_plus['t'].unstack().mean()], axis=1).rename(columns={0: 'Base', 1: 'Plus'})\n",
    "tstats"
   ]
  },
  {
   "cell_type": "code",
   "execution_count": null,
   "id": "1a0cff0b",
   "metadata": {},
   "outputs": [
    {
     "name": "stdout",
     "output_type": "stream",
     "text": [
      "Incremental IC mean: -0.007626943557724311\n"
     ]
    }
   ],
   "source": [
    "# betas_plus = ...\n",
    "from scipy.stats import spearmanr\n",
    "\n",
    "# TODO 3: incremental IC\n",
    "def neutralize_beta(df, factor: str, neutralizers: list):\n",
    "\n",
    "\n",
    "resid_esg = panel.loc[panel.esg_level!=0].groupby(level='date', group_keys=False).apply(lambda x: neutralize_beta(x, 'esg_level', cols_base))\n",
    "panel['esg_level_resid'] = resid_esg\n",
    "\n",
    "ic = panel.loc[panel.esg_level!=0].groupby('date').apply(lambda x : spearmanr(x.esg_level_resid, x.fwd_ret)[0]).dropna()\n",
    "print(\"Incremental IC mean:\", ic.mean())\n"
   ]
  },
  {
   "cell_type": "code",
   "execution_count": 113,
   "id": "1a7cd30d",
   "metadata": {},
   "outputs": [],
   "source": [
    "# TODO 4: ESG bucket backtest\n",
    "\n",
    "panel['esg_ensemble'] = panel[['esg_level', 'esg_change_12m']].sum(axis=1)\n",
    "panel_backtest = panel.loc[panel.esg_ensemble != 0].copy()\n",
    "panel_backtest['tile'] = panel_backtest.groupby('date')['esg_ensemble'].transform(lambda x : pd.qcut(x.rank(method='first',pct=True), 10, labels=False))"
   ]
  },
  {
   "cell_type": "code",
   "execution_count": null,
   "id": "39c3c7a7",
   "metadata": {},
   "outputs": [],
   "source": [
    "long = panel_backtest.loc[panel_backtest.tile == 9].groupby('date')['fwd_ret'].mean()\n",
    "short = panel_backtest.loc[panel_backtest.tile == 0].groupby('date')['fwd_ret'].mean()\n",
    "ls = long - short"
   ]
  },
  {
   "cell_type": "code",
   "execution_count": null,
   "id": "7bf674ef",
   "metadata": {},
   "outputs": [
    {
     "data": {
      "image/png": "[encoded data removed]",
      "text/plain": [
       "<Figure size 640x480 with 1 Axes>"
      ]
     },
     "metadata": {},
     "output_type": "display_data"
    }
   ],
   "source": [
    "# lol even AI wants to short ESG\n",
    "plt.figure()\n",
    "ls.add(1).cumprod().plot(title='Long/Short Cumulative Return')\n",
    "plt.show()"
   ]
  }
 ],
 "metadata": {
  "kernelspec": {
   "display_name": "test",
   "language": "python",
   "name": "python3"
  },
  "language_info": {
   "codemirror_mode": {
    "name": "ipython",
    "version": 3
   },
   "file_extension": ".py",
   "mimetype": "text/x-python",
   "name": "python",
   "nbconvert_exporter": "python",
   "pygments_lexer": "ipython3",
   "version": "3.10.14"
  }
 },
 "nbformat": 4,
 "nbformat_minor": 5
}
