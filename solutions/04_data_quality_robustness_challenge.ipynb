{
 "cells": [
  {
   "cell_type": "markdown",
   "id": "6cdc025b",
   "metadata": {},
   "source": [
    "# 4) Data Quality & Robustness\n",
    "\n",
    "> Read me\n",
    "- Run top-to-bottom. Uses simulated data only (numpy/pandas/matplotlib).\n",
    "- Cells with **TODO** are what interviewers often expect you to implement.\n",
    "- Keep runs fast. Vectorize when possible.\n",
    "- Use clean functions with docstrings; add comments where you make assumptions.\n"
   ]
  },
  {
   "cell_type": "markdown",
   "id": "40bb5f3c",
   "metadata": {},
   "source": [
    "## Setup & Data (simulated)"
   ]
  },
  {
   "cell_type": "code",
   "execution_count": 1,
   "id": "25845ba3",
   "metadata": {},
   "outputs": [],
   "source": [
    "import numpy as np, pandas as pd\n",
    "import matplotlib.pyplot as plt\n",
    "\n",
    "np.random.seed(7)\n",
    "n = 600\n",
    "tickers = [f\"U{i:04d}\" for i in range(n)]\n",
    "days = pd.date_range(\"2015-01-01\",\"2020-12-31\",freq=\"B\")\n",
    "prices = pd.DataFrame(index=days, columns=tickers, dtype=float)\n",
    "levels = np.random.uniform(5,100,n)\n",
    "for j,t in enumerate(tickers):\n",
    "    r = np.random.normal(0.0004, 0.02, len(days))\n",
    "    p = np.empty(len(days)); p[0]=levels[j]\n",
    "    for i in range(1,len(days)):\n",
    "        p[i] = max(0.5, p[i-1]*(1+r[i]))\n",
    "    prices[t] = p\n",
    "\n",
    "split_events = []\n",
    "for t in tickers:\n",
    "    if np.random.rand()<0.2:\n",
    "        d = np.random.choice(days[200:-200])\n",
    "        split=2\n",
    "        split_events.append((d, t, split))\n",
    "        idx = prices.index.get_loc(d)\n",
    "        prices.loc[days>=d, t] /= split\n",
    "\n",
    "dividends = []\n",
    "for t in tickers:\n",
    "    for _ in range(np.random.poisson(2)):\n",
    "        d = np.random.choice(days[100:-100])\n",
    "        dv = np.random.uniform(0.05,0.5)\n",
    "        dividends.append((d,t,dv))\n",
    "\n",
    "dead = set(np.random.choice(tickers, size=int(0.15*n), replace=False))\n",
    "delist_date = {t: np.random.choice(days[800:-10]) for t in dead}\n",
    "for t in dead:\n",
    "    prices.loc[prices.index > delist_date[t], t] = np.nan\n"
   ]
  },
  {
   "cell_type": "code",
   "execution_count": 2,
   "id": "7e88ad4d",
   "metadata": {},
   "outputs": [
    {
     "data": {
      "text/plain": [
       "[(numpy.datetime64('2018-12-19T00:00:00.000000000'), 'U0000', 2),\n",
       " (numpy.datetime64('2017-12-13T00:00:00.000000000'), 'U0005', 2),\n",
       " (numpy.datetime64('2017-05-10T00:00:00.000000000'), 'U0008', 2),\n",
       " (numpy.datetime64('2016-10-31T00:00:00.000000000'), 'U0010', 2),\n",
       " (numpy.datetime64('2020-01-21T00:00:00.000000000'), 'U0015', 2)]"
      ]
     },
     "execution_count": 2,
     "metadata": {},
     "output_type": "execute_result"
    }
   ],
   "source": [
    "split_events[:5]"
   ]
  },
  {
   "cell_type": "code",
   "execution_count": 3,
   "id": "b8c77c3b",
   "metadata": {},
   "outputs": [
    {
     "data": {
      "text/plain": [
       "[(numpy.datetime64('2018-11-14T00:00:00.000000000'),\n",
       "  'U0000',\n",
       "  0.3593485998889876),\n",
       " (numpy.datetime64('2018-12-20T00:00:00.000000000'),\n",
       "  'U0000',\n",
       "  0.1918277291607292),\n",
       " (numpy.datetime64('2019-06-20T00:00:00.000000000'),\n",
       "  'U0000',\n",
       "  0.37017029572128646),\n",
       " (numpy.datetime64('2019-02-07T00:00:00.000000000'),\n",
       "  'U0000',\n",
       "  0.1812836327370072),\n",
       " (numpy.datetime64('2020-02-24T00:00:00.000000000'),\n",
       "  'U0001',\n",
       "  0.09239364339365745)]"
      ]
     },
     "execution_count": 3,
     "metadata": {},
     "output_type": "execute_result"
    }
   ],
   "source": [
    "dividends[:5]"
   ]
  },
  {
   "cell_type": "markdown",
   "id": "ab10de39",
   "metadata": {},
   "source": [
    "## TODO Checklist\n",
    "1. Build **back-adjusted prices** for splits and dividends.\n",
    "2. Construct a **point-in-time universe** that includes delisted names (no survivorship bias).\n",
    "3. Backtest a simple **12–1 momentum** strategy **before** and **after** cleaning; compare equity curves.\n",
    "4. Document and print a small **data quality report** (rows dropped, reasons).\n"
   ]
  },
  {
   "cell_type": "code",
   "execution_count": 4,
   "id": "b5a34c39",
   "metadata": {},
   "outputs": [],
   "source": [
    "# sort by events from oldest to newest\n",
    "split_events_sorted = pd.DataFrame(split_events).sort_values(by=[1, 0]).to_records(index=False)\n"
   ]
  },
  {
   "cell_type": "code",
   "execution_count": 5,
   "id": "1a95646a",
   "metadata": {},
   "outputs": [],
   "source": [
    "dividends_sorted = pd.DataFrame(dividends).sort_values(by=[1, 0]).to_records(index=False)"
   ]
  },
  {
   "cell_type": "code",
   "execution_count": 6,
   "id": "a36ff88d",
   "metadata": {},
   "outputs": [],
   "source": [
    "# === TODO 1: Back-adjust prices ===\n",
    "adj = prices.copy()\n",
    "# for each split and dividend, back-adjust history\n",
    "# TODO: implement\n",
    "\n",
    "for d, t, split in split_events_sorted:\n",
    "    adj.loc[adj.index < d, t] /= split\n",
    "for d, t, dv in dividends_sorted:\n",
    "    if t in adj:\n",
    "        adj.loc[adj.index < d, t] += dv"
   ]
  },
  {
   "cell_type": "code",
   "execution_count": null,
   "id": "d84d142f",
   "metadata": {},
   "outputs": [],
   "source": [
    "# === TODO 2: Point-in-time universe ===\n",
    "# ret = adj.pct_change()\n",
    "# TODO: assemble available universe each day (exclude NAs only that day)"
   ]
  },
  {
   "cell_type": "code",
   "execution_count": null,
   "id": "ad66ce26",
   "metadata": {},
   "outputs": [],
   "source": [
    "# === TODO 3: Backtest momentum before/after ===\n",
    "# naive vs clean; compute cumulative returns and plot"
   ]
  },
  {
   "cell_type": "code",
   "execution_count": 7,
   "id": "cb88857e",
   "metadata": {},
   "outputs": [
    {
     "name": "stderr",
     "output_type": "stream",
     "text": [
      "/var/folders/kc/7dyzg2fs2zv9v849s3n6rd4w0000gn/T/ipykernel_57975/954275114.py:1: FutureWarning: The default fill_method='pad' in DataFrame.pct_change is deprecated and will be removed in a future version. Either fill in any non-leading NA values prior to calling pct_change or specify 'fill_method=None' to not fill NA values.\n",
      "  ret_naive = prices.pct_change().fillna(0)\n"
     ]
    }
   ],
   "source": [
    "ret_naive = prices.pct_change().fillna(0)\n",
    "signal = prices.shift(21)/prices.shift(252) - 1\n",
    "rank = signal.rank(axis=1, pct=True)\n",
    "long = (rank > 0.9).astype(float)\n",
    "short = (rank < 0.1).astype(float)\n",
    "pnl_naive = (ret_naive * long - ret_naive * short).sum(axis=1)"
   ]
  },
  {
   "cell_type": "code",
   "execution_count": 8,
   "id": "803216fa",
   "metadata": {},
   "outputs": [
    {
     "name": "stderr",
     "output_type": "stream",
     "text": [
      "/var/folders/kc/7dyzg2fs2zv9v849s3n6rd4w0000gn/T/ipykernel_57975/452765817.py:1: FutureWarning: The default fill_method='pad' in DataFrame.pct_change is deprecated and will be removed in a future version. Either fill in any non-leading NA values prior to calling pct_change or specify 'fill_method=None' to not fill NA values.\n",
      "  ret_clean = adj.pct_change().fillna(0)\n"
     ]
    }
   ],
   "source": [
    "ret_clean = adj.pct_change().fillna(0)\n",
    "signal_clean = adj.shift(21)/adj.shift(252) - 1\n",
    "rank_clean = signal_clean.rank(axis=1, pct=True)\n",
    "long_clean = (rank_clean > 0.9).astype(float)\n",
    "short_clean = (rank_clean < 0.1).astype(float)\n",
    "pnl_clean = (ret_clean * long - ret_clean * short).sum(axis=1)"
   ]
  },
  {
   "cell_type": "code",
   "execution_count": 9,
   "id": "abb5f5b3",
   "metadata": {},
   "outputs": [
    {
     "data": {
      "image/png": "[encoded data removed]",
      "text/plain": [
       "<Figure size 640x480 with 1 Axes>"
      ]
     },
     "metadata": {},
     "output_type": "display_data"
    },
    {
     "name": "stdout",
     "output_type": "stream",
     "text": [
      "Splits: 136 Dividends: 1197 Delisted: 90\n",
      "NA% before: 0.0351 NA% after: 0.0351\n"
     ]
    }
   ],
   "source": [
    "# === TODO 4: Data quality report ===\n",
    "# print counts for splits, dividends, delistings, % of NAs handled, etc.\n",
    "import matplotlib.pyplot as plt\n",
    "plt.figure(); (1+pnl_naive).cumprod().plot(label=\"Naive\"); (1+pnl_clean).cumprod().plot(label=\"Cleaned\"); plt.title(\"Momentum: Naive vs Cleaned\"); plt.legend(); plt.show()\n",
    "\n",
    "print(\"Splits:\", len(split_events), \"Dividends:\", len(dividends), \"Delisted:\", len(dead))\n",
    "na_before = prices.isna().mean().mean()\n",
    "na_after = adj.isna().mean().mean()\n",
    "print(\"NA% before:\", round(na_before,4), \"NA% after:\", round(na_after,4))"
   ]
  },
  {
   "cell_type": "code",
   "execution_count": null,
   "id": "8da33a83",
   "metadata": {},
   "outputs": [],
   "source": []
  }
 ],
 "metadata": {
  "kernelspec": {
   "display_name": "test",
   "language": "python",
   "name": "python3"
  },
  "language_info": {
   "codemirror_mode": {
    "name": "ipython",
    "version": 3
   },
   "file_extension": ".py",
   "mimetype": "text/x-python",
   "name": "python",
   "nbconvert_exporter": "python",
   "pygments_lexer": "ipython3",
   "version": "3.10.14"
  }
 },
 "nbformat": 4,
 "nbformat_minor": 5
}
