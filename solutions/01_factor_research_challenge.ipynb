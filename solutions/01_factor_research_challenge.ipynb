{
 "cells": [
  {
   "cell_type": "markdown",
   "id": "add43987",
   "metadata": {},
   "source": [
    "# 1) Factor Research & Signal Development — Earnings Quality\n",
    "\n",
    "> Read me\n",
    "- Run top-to-bottom. Uses simulated data only (numpy/pandas/matplotlib).\n",
    "- Cells with **TODO** are what interviewers often expect you to implement.\n",
    "- Keep runs fast. Vectorize when possible.\n",
    "- Use clean functions with docstrings; add comments where you make assumptions.\n"
   ]
  },
  {
   "cell_type": "markdown",
   "id": "4c0cfd7e",
   "metadata": {},
   "source": [
    "## Setup & Data (simulated)"
   ]
  },
  {
   "cell_type": "code",
   "execution_count": 1,
   "id": "880bbcc6",
   "metadata": {},
   "outputs": [],
   "source": [
    "import numpy as np, pandas as pd\n",
    "import matplotlib.pyplot as plt\n",
    "from scipy.stats import spearmanr\n",
    "\n",
    "np.random.seed(42)\n",
    "\n",
    "# --- Simulate panel ---\n",
    "n_names = 800\n",
    "n_sectors = 11\n",
    "months = pd.period_range('2012-01','2020-12',freq='M')\n",
    "dates = months.to_timestamp('M')\n",
    "tickers = [f\"U{i:04d}\" for i in range(n_names)]\n",
    "sectors = pd.Series(np.random.randint(0, n_sectors, size=n_names), index=tickers)\n",
    "\n",
    "quality_level = pd.Series(np.random.normal(0, 1, n_names), index=tickers)\n",
    "\n",
    "mi = pd.MultiIndex.from_product([dates, tickers], names=[\"date\",\"ticker\"])\n",
    "df = pd.DataFrame(index=mi)\n",
    "\n",
    "qtr_dates = pd.period_range('2011Q4','2020Q4',freq='Q')\n",
    "qtr_ts = qtr_dates.to_timestamp('Q')\n",
    "qtr_idx = pd.MultiIndex.from_product([qtr_ts, tickers], names=[\"date\",\"ticker\"])\n",
    "fund = pd.DataFrame(index=qtr_idx)\n",
    "\n",
    "sector_effect = pd.Series(np.random.normal(0,0.4,size=n_sectors), index=range(n_sectors))\n",
    "fund[\"accruals\"] = -0.7*quality_level.loc[fund.index.get_level_values(\"ticker\")].values                    + sector_effect.loc[sectors.loc[fund.index.get_level_values(\"ticker\")]].values                    + np.random.normal(0, 0.6, len(fund))\n",
    "\n",
    "# bad code for ffill\n",
    "# fund_m = (fund\n",
    "#           .groupby(level=\"ticker\")\n",
    "#           .apply(lambda x: x.droplevel(0).reindex(dates, method=\"ffill\"))\n",
    "#           .swaplevel()\n",
    "#           .sort_index())\n",
    "\n",
    "fund_m = (fund['accruals']\n",
    "          .unstack('ticker')             # columns = tickers\n",
    "          .reindex(dates)                # index = monthly dates\n",
    "          .ffill()                       # forward-fill across time per column\n",
    "          .stack('ticker')               # back to MultiIndex (date, ticker)\n",
    "          .to_frame('accruals')\n",
    "          .sort_index())\n",
    "\n",
    "df[\"accruals\"] = fund_m[\"accruals\"]\n",
    "df[\"sector\"] = sectors.loc[df.index.get_level_values(\"ticker\")].values\n",
    "\n",
    "market = pd.Series(np.random.normal(0.005, 0.04, len(dates)), index=dates, name=\"mkt\")\n",
    "beta = pd.Series(np.clip(np.random.normal(1.0, 0.3, n_names), 0.2, 2.0), index=tickers)\n",
    "sector_shocks = pd.DataFrame(np.random.normal(0,0.02,(len(dates), n_sectors)),\n",
    "                             index=dates, columns=[f\"sec{i}\" for i in range(n_sectors)])\n",
    "\n",
    "# bad code to get sec_val for each stock row\n",
    "# sec_cols = sector_shocks.columns\n",
    "# sec_map = {i:sec_cols[i] for i in range(n_sectors)}\n",
    "# sec_series = pd.Series(df[\"sector\"].values, index=df.index)\n",
    "# sec_shock_val = sector_shocks.stack()\n",
    "# sec_lookup = sec_shock_val.copy()\n",
    "# sec_lookup.index = pd.MultiIndex.from_tuples([(t, int(c.replace(\"sec\",\"\"))) for (t,c) in sec_shock_val.index])\n",
    "# sec_val = sec_lookup.loc[(df.index.get_level_values(\"date\"), sec_series.values)].values\n",
    "\n",
    "# get sec_val for each stock row\n",
    "date_idx = sector_shocks.index.get_indexer(df.index.get_level_values(\"date\"))\n",
    "sec_idx  = df[\"sector\"].to_numpy()\n",
    "# (len(df),) array of the right shape\n",
    "sec_val = sector_shocks.to_numpy()[date_idx, sec_idx]\n",
    "\n",
    "df[\"quality_score\"] = -df[\"accruals\"]\n",
    "df[\"beta\"] = beta.loc[df.index.get_level_values(\"ticker\")].values\n",
    "\n",
    "signal_strength = 0.006\n",
    "idiosd = 0.06\n",
    "\n",
    "df[\"ret\"] = (market.loc[df.index.get_level_values(\"date\")].values * df[\"beta\"].values\n",
    "             + 0.002*sec_val\n",
    "             + signal_strength * df[\"quality_score\"].values\n",
    "             + np.random.normal(0, idiosd, len(df)))\n",
    "\n",
    "panel = df.dropna().copy()\n"
   ]
  },
  {
   "cell_type": "markdown",
   "id": "74824934",
   "metadata": {},
   "source": [
    "## TODO Checklist\n",
    "1. **Winsorize** the raw factor cross-sectionally each month.\n",
    "2. **Sector-standardize** (z-score within sector per month).\n",
    "3. **Beta-neutralize** the factor via cross-sectional regression on beta each month.\n",
    "4. Form **Q10–Q1 long–short** monthly returns; plot cumulative.\n",
    "5. Compute **IC (Spearman)** and **IC decay** (1–6 months).\n",
    "6. **Add turnover and a simple cost model**, and report net IR.\n",
    "7. **Subperiod stability:** report metrics for 2012–2015, 2016–2020.\n"
   ]
  },
  {
   "cell_type": "code",
   "execution_count": 2,
   "id": "5a075253",
   "metadata": {},
   "outputs": [],
   "source": [
    "# === TODO 1–3: Build neutralized factor ===\n",
    "def winsorize(s, p=0.01):\n",
    "    lo, hi = s.quantile(p), s.quantile(1-p)\n",
    "    return s.clip(lo, hi)\n",
    "\n",
    "def zscore(s):\n",
    "    return (s - s.mean())/s.std(ddof=0)\n",
    "\n",
    "def neutralize_beta(df, factor: str, neutralizers: list):\n",
    "    # TODO: implement via simple OLS residualization per month\n",
    "    # add constant\n",
    "    x = df[neutralizers].values\n",
    "    y = df[factor].values\n",
    "    X = np.c_[np.ones(len(x)), x]\n",
    "    # X = np.concatenate([X, np.ones((X.shape[0], 1))], axis=1)\n",
    "    beta = np.linalg.lstsq(X, y, rcond=None)[0]\n",
    "    resid = y - X@beta\n",
    "    return pd.Series(resid, index=df.index)"
   ]
  },
  {
   "cell_type": "code",
   "execution_count": 3,
   "id": "d1c7e14d",
   "metadata": {},
   "outputs": [
    {
     "name": "stderr",
     "output_type": "stream",
     "text": [
      "/var/folders/kc/7dyzg2fs2zv9v849s3n6rd4w0000gn/T/ipykernel_30908/2355582593.py:3: DeprecationWarning: DataFrameGroupBy.apply operated on the grouping columns. This behavior is deprecated, and in a future version of pandas the grouping columns will be excluded from the operation. Either pass `include_groups=False` to exclude the groupings or explicitly select the grouping columns after groupby to silence this warning.\n",
      "  panel['fac_n'] = panel.groupby(['date', 'sector']).apply(neutralize_beta, factor='fac_z', neutralizers=['beta']).values\n"
     ]
    }
   ],
   "source": [
    "panel['fac_w'] = panel.groupby(['date', 'sector'])['quality_score'].transform(winsorize)\n",
    "panel['fac_z'] = panel.groupby(['date', 'sector'])['fac_w'].transform(zscore)\n",
    "panel['fac_n'] = panel.groupby(['date', 'sector']).apply(neutralize_beta, factor='fac_z', neutralizers=['beta']).values"
   ]
  },
  {
   "cell_type": "code",
   "execution_count": 4,
   "id": "feb7a1ab",
   "metadata": {},
   "outputs": [],
   "source": [
    "\n",
    "# === TODO 4: Decile portfolio backtest ===\n",
    "def decile_ls(panel, col, n_bins=10):\n",
    "    tmp = panel.copy()\n",
    "    tmp['tile'] = panel.groupby('date')[col].transform(lambda x : pd.qcut(x.rank(method='first'), n_bins, labels=False))\n",
    "    long = tmp.loc[tmp.tile == n_bins-1].groupby('date')['ret'].mean()\n",
    "    short = tmp.loc[tmp.tile == 0].groupby('date')['ret'].mean()\n",
    "    ls = long - short\n",
    "    return long, short, ls\n",
    "long, short, ls = decile_ls(panel, col=\"fac_n\")\n",
    "\n"
   ]
  },
  {
   "cell_type": "code",
   "execution_count": 5,
   "id": "c590c405",
   "metadata": {},
   "outputs": [
    {
     "data": {
      "image/png": "[encoded data removed]",
      "text/plain": [
       "<Figure size 640x480 with 1 Axes>"
      ]
     },
     "metadata": {},
     "output_type": "display_data"
    }
   ],
   "source": [
    "cum = (1+ls).cumprod()\n",
    "plt.figure()\n",
    "cum.plot(title='Long/Short Cumulative Return')\n",
    "plt.show()"
   ]
  },
  {
   "cell_type": "code",
   "execution_count": null,
   "id": "c326b7bd",
   "metadata": {},
   "outputs": [],
   "source": [
    "# === TODO 5: IC and IC decay ===\n",
    "# ic = ...\n",
    "\n",
    "panel.groupby('date').apply(lambda x: spearmanr(x.fac_n, x.ret)[0]).dropna().plot(title='Monthly IC')"
   ]
  },
  {
   "cell_type": "code",
   "execution_count": null,
   "id": "78a2221b",
   "metadata": {},
   "outputs": [],
   "source": [
    "# ic_decay = {k: ... for k in range(1,7)}\n",
    "ic_decay = []\n",
    "for k in range(1, 6+1):\n",
    "    tmp = panel.copy()\n",
    "    tmp['fwd_ret'] = tmp.groupby('ticker')['ret'].shift(-k)\n",
    "    ic_decay_k = tmp.dropna(subset='fwd_ret').groupby('date').apply(lambda x : spearmanr(x.fwd_ret, x.fac_n)[0]).mean()\n",
    "    ic_decay.append(ic_decay_k)\n",
    "ic_decay = pd.DataFrame({'IC Lagged': ic_decay}, index=list(range(1, 7)))\n",
    "ic_decay.plot(title='IC Decay')"
   ]
  },
  {
   "cell_type": "code",
   "execution_count": null,
   "id": "5f2e028b",
   "metadata": {},
   "outputs": [],
   "source": [
    "# === TODO 6: Turnover & cost ===\n",
    "# Compute weights each month; turnover vs previous; subtract cost (e.g., 30bps per 100% turnover).\n",
    "dates = panel.index.get_level_values(0).unique().sort_values()\n",
    "tickers = panel.index.get_level_values(1).unique()\n",
    "\n",
    "prev_w = pd.Series(0, index=tickers)\n",
    "\n",
    "tc_per_turnover = 0.003\n",
    "\n",
    "rets = []\n",
    "for d in dates:\n",
    "    snap = panel.loc[d]\n",
    "    f = snap.fac_n\n",
    "    w = f/f.abs().sum()\n",
    "    w -= w.mean()\n",
    "    to = (w - prev_w).abs().sum()\n",
    "    r = (snap['ret'] * w).sum() - tc_per_turnover * to\n",
    "    rets.append({'date': d, 'ret': r, 'turnover': to})\n",
    "    prev_w = w\n",
    "\n",
    "ret_to = pd.DataFrame(rets).set_index('date')\n",
    "\n",
    "plt.figure()\n",
    "(1 + ret_to.ret).cumprod().plot(title='Net of Costs Return')\n",
    "plt.show()"
   ]
  },
  {
   "cell_type": "code",
   "execution_count": null,
   "id": "6a0c83a2",
   "metadata": {},
   "outputs": [],
   "source": [
    "\n",
    "# === TODO 7: Subperiod stability ===\n",
    "# Compute IR/IC for subperiods and print a small summary table"
   ]
  }
 ],
 "metadata": {
  "kernelspec": {
   "display_name": "test",
   "language": "python",
   "name": "python3"
  },
  "language_info": {
   "codemirror_mode": {
    "name": "ipython",
    "version": 3
   },
   "file_extension": ".py",
   "mimetype": "text/x-python",
   "name": "python",
   "nbconvert_exporter": "python",
   "pygments_lexer": "ipython3",
   "version": "3.10.14"
  }
 },
 "nbformat": 4,
 "nbformat_minor": 5
}
